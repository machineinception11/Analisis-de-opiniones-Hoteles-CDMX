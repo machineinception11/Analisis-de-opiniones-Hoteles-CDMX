{
 "cells": [
  {
   "cell_type": "code",
   "execution_count": 1,
   "metadata": {},
   "outputs": [],
   "source": [
    "from time import sleep\n",
    "import random\n",
    "import pandas as pd\n",
    "from selenium import webdriver\n",
    "from selenium.webdriver.support import expected_conditions as EC\n",
    "from selenium.webdriver.support.ui import WebDriverWait\n",
    "from selenium.webdriver.common.by import By\n",
    "from selenium.webdriver.chrome.options import Options"
   ]
  },
  {
   "cell_type": "code",
   "execution_count": null,
   "metadata": {},
   "outputs": [
    {
     "name": "stderr",
     "output_type": "stream",
     "text": [
      "D:\\Anaconda\\lib\\site-packages\\ipykernel_launcher.py:13: DeprecationWarning: use options instead of chrome_options\n",
      "  del sys.path[0]\n"
     ]
    },
    {
     "name": "stdout",
     "output_type": "stream",
     "text": [
      "0\n",
      "1\n",
      "2\n",
      "3\n",
      "4\n",
      "5\n",
      "6\n",
      "7\n",
      "8\n",
      "9\n",
      "10\n",
      "11\n",
      "12\n",
      "13\n",
      "14\n",
      "15\n"
     ]
    }
   ],
   "source": [
    "# Función para hacer scrolling\n",
    "scrollingScript = \"\"\"\n",
    "    document.getElementsByClassName('section-layout section-scrollbox scrollable-y scrollable-show')[0].scroll(0,20000000)\n",
    "\"\"\"\n",
    "# Diccionario donde guardaremos los datos\n",
    "opiniones = {\"Usuario\": [], \"Fecha\": [], \"Descripción\": [], \"Calificacion\": []}\n",
    "\n",
    "# Cambiamos los headers para tener un poco de seguridad\n",
    "options = Options()\n",
    "options.add_argument(\"user_agent=Mozilla/5.0 (Windows NT 10.0; Win64; x64) AppleWebKit/537.36 (KHTML, like Gecko) Chrome/70.0.3538.77 Safari/537.36\")\n",
    "\n",
    "# Indicamos donde está el driver de chrome\n",
    "driver = webdriver.Chrome(r'C:\\Users\\HP-001\\Web scraping\\chromedriver.exe', chrome_options = options)\n",
    "\n",
    "# ¿De donde extraeremos los datos?\n",
    "driver.get(\"https://www.google.com/maps/place/Hostel+Mundo+Joven+Catedral/@19.4351038,-99.1336475,59a,35y,152.99h,10.9t/data=!3m1!1e3!4m22!1m11!3m10!1s0x85d1f934c94e93bf:0x48872d2b5952719b!2sHostel+Mundo+Joven+Catedral!5m2!4m1!1i2!8m2!3d19.4352885!4d-99.1336584!14m1!1BCgIgAQ!3m9!1s0x85d1f934c94e93bf:0x48872d2b5952719b!5m2!4m1!1i2!8m2!3d19.4352885!4d-99.1336584!9m1!1b1\")\n",
    "\n",
    "# Esperamos a que la página cargue\n",
    "# WebDriverWait(driver, 10).until(\n",
    "#     EC.visibility_of_all_elements_located((By.XPATH, '//button[contains(@data-photo-index, \"3\")]'))\n",
    "# )\n",
    "sleep(random.uniform(7,8))\n",
    "\n",
    "SCROLLS = 0\n",
    "\n",
    "# Realizar primero los scrolls para cargar todas las optiniones que querramos\n",
    "while (SCROLLS != 30):\n",
    "    print(SCROLLS)\n",
    "    # Ejecutamos a partir de una funciónde JavaScript el scrolling\n",
    "    driver.execute_script(scrollingScript)\n",
    "    # Esperamos a que se haya cargado la página\n",
    "    sleep(random.uniform(1,2))\n",
    "    # Le sumamos 1 al contador de scrolling\n",
    "    SCROLLS += 1\n",
    "\n",
    "# Empezamos a ingresar a cada opinion y extraer los datos\n",
    "reviews_restaurant = driver.find_elements(By.XPATH, '//div[contains(@class, \"section-review ripple-container gm2-body-2\")]')\n",
    "\n",
    "# Iteramos la lista de opiniones\n",
    "for review in reviews_restaurant:\n",
    "    # Encontrar el link de cada opinion\n",
    "    Usuario = review.find_element(By.XPATH, './/div[@class = \"section-review-title\"]').text\n",
    "    Fecha = review.find_element(By.XPATH, './/span[@class = \"section-review-publish-date-and-source\"]').text\n",
    "    Calificacion = review.find_element(By.XPATH, './/span[@class = \"section-review-numerical-rating\"]').text\n",
    "    try:\n",
    "        Descripción = review.find_element(By.XPATH, './/span[@class = \"section-review-text\"]').text\n",
    "    except:\n",
    "        Descripción = \"N/A\"\n",
    "    \n",
    "    opiniones[\"Usuario\"].append(Usuario)\n",
    "    opiniones[\"Fecha\"].append(Fecha)\n",
    "    opiniones[\"Descripción\"].append(Descripción)\n",
    "    opiniones[\"Calificacion\"].append(Calificacion)\n",
    "    \n",
    "# opiniones = {\"Usuario\": [], \"Fecha\": [], \"Descripción\": [], \"Calificacion\": []}      "
   ]
  },
  {
   "cell_type": "code",
   "execution_count": null,
   "metadata": {},
   "outputs": [],
   "source": [
    "opiniones = pd.DataFrame(opiniones)"
   ]
  },
  {
   "cell_type": "code",
   "execution_count": null,
   "metadata": {},
   "outputs": [],
   "source": [
    "opiniones"
   ]
  },
  {
   "cell_type": "code",
   "execution_count": null,
   "metadata": {},
   "outputs": [],
   "source": [
    "opiniones.to_csv(\"Maps_opiniones.csv\")"
   ]
  },
  {
   "cell_type": "code",
   "execution_count": null,
   "metadata": {},
   "outputs": [],
   "source": []
  }
 ],
 "metadata": {
  "kernelspec": {
   "display_name": "Python 3",
   "language": "python",
   "name": "python3"
  },
  "language_info": {
   "codemirror_mode": {
    "name": "ipython",
    "version": 3
   },
   "file_extension": ".py",
   "mimetype": "text/x-python",
   "name": "python",
   "nbconvert_exporter": "python",
   "pygments_lexer": "ipython3",
   "version": "3.7.7"
  }
 },
 "nbformat": 4,
 "nbformat_minor": 4
}
