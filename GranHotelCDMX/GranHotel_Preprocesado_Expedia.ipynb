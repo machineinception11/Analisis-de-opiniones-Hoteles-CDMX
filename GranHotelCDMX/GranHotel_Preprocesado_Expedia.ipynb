{
 "cells": [
  {
   "cell_type": "code",
   "execution_count": 2,
   "metadata": {},
   "outputs": [],
   "source": [
    "import pandas as pd\n",
    "import matplotlib.pyplot as plt\n",
    "import seaborn as sns\n",
    "import numpy as np"
   ]
  },
  {
   "cell_type": "code",
   "execution_count": 33,
   "metadata": {},
   "outputs": [],
   "source": [
    "df = pd.read_csv(\"./Opiniones_Expedia.csv\")\n",
    "df.drop(\"Unnamed: 0\", axis = 1, inplace = True)"
   ]
  },
  {
   "cell_type": "code",
   "execution_count": 34,
   "metadata": {},
   "outputs": [
    {
     "data": {
      "text/html": [
       "<div>\n",
       "<style scoped>\n",
       "    .dataframe tbody tr th:only-of-type {\n",
       "        vertical-align: middle;\n",
       "    }\n",
       "\n",
       "    .dataframe tbody tr th {\n",
       "        vertical-align: top;\n",
       "    }\n",
       "\n",
       "    .dataframe thead th {\n",
       "        text-align: right;\n",
       "    }\n",
       "</style>\n",
       "<table border=\"1\" class=\"dataframe\">\n",
       "  <thead>\n",
       "    <tr style=\"text-align: right;\">\n",
       "      <th></th>\n",
       "      <th>calificaciones</th>\n",
       "      <th>fechas</th>\n",
       "      <th>reseñas</th>\n",
       "      <th>autor</th>\n",
       "    </tr>\n",
       "  </thead>\n",
       "  <tbody>\n",
       "    <tr>\n",
       "      <th>0</th>\n",
       "      <td>5 de 5. Excelente</td>\n",
       "      <td>7 de may de 2021</td>\n",
       "      <td>Sin reseña</td>\n",
       "      <td>Mallinaly</td>\n",
       "    </tr>\n",
       "    <tr>\n",
       "      <th>1</th>\n",
       "      <td>5 de 5. Excelente</td>\n",
       "      <td>6 de may de 2021</td>\n",
       "      <td>Sin reseña</td>\n",
       "      <td>Arturo</td>\n",
       "    </tr>\n",
       "    <tr>\n",
       "      <th>2</th>\n",
       "      <td>5 de 5. Excelente</td>\n",
       "      <td>15 de abr de 2021</td>\n",
       "      <td>NaN</td>\n",
       "      <td>Graciela</td>\n",
       "    </tr>\n",
       "    <tr>\n",
       "      <th>3</th>\n",
       "      <td>5 de 5. Excelente</td>\n",
       "      <td>3 de abr de 2021</td>\n",
       "      <td>Sin reseña</td>\n",
       "      <td>Adolfo</td>\n",
       "    </tr>\n",
       "    <tr>\n",
       "      <th>4</th>\n",
       "      <td>5 de 5. Excelente</td>\n",
       "      <td>24 de mar de 2021</td>\n",
       "      <td>Este Hotel es un imprecionante edificio, lleno...</td>\n",
       "      <td>Cliente verificado</td>\n",
       "    </tr>\n",
       "    <tr>\n",
       "      <th>...</th>\n",
       "      <td>...</td>\n",
       "      <td>...</td>\n",
       "      <td>...</td>\n",
       "      <td>...</td>\n",
       "    </tr>\n",
       "    <tr>\n",
       "      <th>1009</th>\n",
       "      <td>2 de 5. Malo</td>\n",
       "      <td>23 de ago de 2017</td>\n",
       "      <td>Day and night work on the square. Lots of nois...</td>\n",
       "      <td>Patrick, Lyon. France</td>\n",
       "    </tr>\n",
       "    <tr>\n",
       "      <th>1010</th>\n",
       "      <td>5 de 5. Excelente</td>\n",
       "      <td>23 de ago de 2017</td>\n",
       "      <td>Great hotel to stay, the staff was great very ...</td>\n",
       "      <td>Cliente verificado</td>\n",
       "    </tr>\n",
       "    <tr>\n",
       "      <th>1011</th>\n",
       "      <td>5 de 5. Excelente</td>\n",
       "      <td>21 de ago de 2017</td>\n",
       "      <td>Sin reseña</td>\n",
       "      <td>Eugenio</td>\n",
       "    </tr>\n",
       "    <tr>\n",
       "      <th>1012</th>\n",
       "      <td>5 de 5. Excelente</td>\n",
       "      <td>21 de ago de 2017</td>\n",
       "      <td>The welcome was amazing: a glass of champagne ...</td>\n",
       "      <td>Curt, Denton, TX</td>\n",
       "    </tr>\n",
       "    <tr>\n",
       "      <th>1013</th>\n",
       "      <td>4 de 5. Bueno</td>\n",
       "      <td>20 de ago de 2017</td>\n",
       "      <td>A splendid &amp; historical hotel that has been we...</td>\n",
       "      <td>Cliente verificado</td>\n",
       "    </tr>\n",
       "  </tbody>\n",
       "</table>\n",
       "<p>1014 rows × 4 columns</p>\n",
       "</div>"
      ],
      "text/plain": [
       "         calificaciones             fechas  \\\n",
       "0     5 de 5. Excelente   7 de may de 2021   \n",
       "1     5 de 5. Excelente   6 de may de 2021   \n",
       "2     5 de 5. Excelente  15 de abr de 2021   \n",
       "3     5 de 5. Excelente   3 de abr de 2021   \n",
       "4     5 de 5. Excelente  24 de mar de 2021   \n",
       "...                 ...                ...   \n",
       "1009       2 de 5. Malo  23 de ago de 2017   \n",
       "1010  5 de 5. Excelente  23 de ago de 2017   \n",
       "1011  5 de 5. Excelente  21 de ago de 2017   \n",
       "1012  5 de 5. Excelente  21 de ago de 2017   \n",
       "1013      4 de 5. Bueno  20 de ago de 2017   \n",
       "\n",
       "                                                reseñas                  autor  \n",
       "0                                            Sin reseña              Mallinaly  \n",
       "1                                            Sin reseña                 Arturo  \n",
       "2                                                   NaN               Graciela  \n",
       "3                                            Sin reseña                 Adolfo  \n",
       "4     Este Hotel es un imprecionante edificio, lleno...     Cliente verificado  \n",
       "...                                                 ...                    ...  \n",
       "1009  Day and night work on the square. Lots of nois...  Patrick, Lyon. France  \n",
       "1010  Great hotel to stay, the staff was great very ...     Cliente verificado  \n",
       "1011                                         Sin reseña                Eugenio  \n",
       "1012  The welcome was amazing: a glass of champagne ...       Curt, Denton, TX  \n",
       "1013  A splendid & historical hotel that has been we...     Cliente verificado  \n",
       "\n",
       "[1014 rows x 4 columns]"
      ]
     },
     "execution_count": 34,
     "metadata": {},
     "output_type": "execute_result"
    }
   ],
   "source": [
    "df"
   ]
  },
  {
   "cell_type": "code",
   "execution_count": 35,
   "metadata": {},
   "outputs": [
    {
     "name": "stdout",
     "output_type": "stream",
     "text": [
      "<class 'pandas.core.frame.DataFrame'>\n",
      "RangeIndex: 1014 entries, 0 to 1013\n",
      "Data columns (total 4 columns):\n",
      " #   Column          Non-Null Count  Dtype \n",
      "---  ------          --------------  ----- \n",
      " 0   calificaciones  1014 non-null   object\n",
      " 1   fechas          1014 non-null   object\n",
      " 2   reseñas         1005 non-null   object\n",
      " 3   autor           1014 non-null   object\n",
      "dtypes: object(4)\n",
      "memory usage: 31.8+ KB\n"
     ]
    }
   ],
   "source": [
    "df.info()"
   ]
  },
  {
   "cell_type": "code",
   "execution_count": 36,
   "metadata": {},
   "outputs": [],
   "source": [
    "# Rellenar los valores faltantes \n",
    "df.fillna(\"Sin reseña\", inplace = True)"
   ]
  },
  {
   "cell_type": "code",
   "execution_count": 37,
   "metadata": {},
   "outputs": [],
   "source": [
    "# Cambiamos el formato de la calificación\n",
    "calificaciones = []\n",
    "\n",
    "for calificacion in df[\"calificaciones\"]:\n",
    "    calificaciones.append(int(calificacion[0]))\n",
    "    \n",
    "df[\"calificaciones\"] = calificaciones"
   ]
  },
  {
   "cell_type": "code",
   "execution_count": 38,
   "metadata": {},
   "outputs": [],
   "source": [
    "# Separamos los meses y los años\n",
    "meses = []\n",
    "años = []\n",
    "\n",
    "for fecha in df[\"fechas\"]:\n",
    "    sep = fecha.split()\n",
    "    meses.append(sep[2])\n",
    "    años.append(int(sep[-1]))\n",
    "\n",
    "df[\"año\"] = años"
   ]
  },
  {
   "cell_type": "code",
   "execution_count": 39,
   "metadata": {},
   "outputs": [],
   "source": [
    "# Cambiamos las fechas con str a int\n",
    "mes_num = []\n",
    "meses_transf = {\"ene\": 1, \"feb\": 2, \"mar\": 3, \"abr\": 4, \"may\": 5, \"jun\": 6, \"jul\": 7, \"ago\": 8, \"sep\": 9, \"oct\": 10, \"nov\": 11, \"dic\": 12}\n",
    "\n",
    "for mes in meses:\n",
    "    if mes in meses_transf.keys():\n",
    "        mes_num.append(meses_transf[mes])\n",
    "        \n",
    "df[\"mes\"] = mes_num"
   ]
  },
  {
   "cell_type": "code",
   "execution_count": 42,
   "metadata": {},
   "outputs": [],
   "source": [
    "# Eliminar fechas y autor que no es necesario\n",
    "df.drop([\"fechas\", \"autor\"], axis = 1, inplace = True)"
   ]
  },
  {
   "cell_type": "code",
   "execution_count": 44,
   "metadata": {},
   "outputs": [],
   "source": [
    "# Retroalimentación positiva si la calificacion es mayor a 4 y si es menor negativa (1,0)\n",
    "retro = []\n",
    "for cali in df[\"calificaciones\"]:\n",
    "    if cali > 3:\n",
    "        retro.append(1)\n",
    "    else:\n",
    "        retro.append(0)\n",
    "        \n",
    "df[\"retroalimentacion\"] = retro"
   ]
  },
  {
   "cell_type": "code",
   "execution_count": 47,
   "metadata": {},
   "outputs": [],
   "source": [
    "# Eliminar las calificaciones ya que nos quedaremos con la calificación\n",
    "df.drop(\"calificaciones\", axis = 1, inplace = True)"
   ]
  },
  {
   "cell_type": "code",
   "execution_count": 48,
   "metadata": {},
   "outputs": [
    {
     "data": {
      "text/html": [
       "<div>\n",
       "<style scoped>\n",
       "    .dataframe tbody tr th:only-of-type {\n",
       "        vertical-align: middle;\n",
       "    }\n",
       "\n",
       "    .dataframe tbody tr th {\n",
       "        vertical-align: top;\n",
       "    }\n",
       "\n",
       "    .dataframe thead th {\n",
       "        text-align: right;\n",
       "    }\n",
       "</style>\n",
       "<table border=\"1\" class=\"dataframe\">\n",
       "  <thead>\n",
       "    <tr style=\"text-align: right;\">\n",
       "      <th></th>\n",
       "      <th>reseñas</th>\n",
       "      <th>año</th>\n",
       "      <th>mes</th>\n",
       "      <th>retroalimentacion</th>\n",
       "    </tr>\n",
       "  </thead>\n",
       "  <tbody>\n",
       "    <tr>\n",
       "      <th>0</th>\n",
       "      <td>Sin reseña</td>\n",
       "      <td>2021</td>\n",
       "      <td>5</td>\n",
       "      <td>1</td>\n",
       "    </tr>\n",
       "    <tr>\n",
       "      <th>1</th>\n",
       "      <td>Sin reseña</td>\n",
       "      <td>2021</td>\n",
       "      <td>5</td>\n",
       "      <td>1</td>\n",
       "    </tr>\n",
       "    <tr>\n",
       "      <th>2</th>\n",
       "      <td>Sin reseña</td>\n",
       "      <td>2021</td>\n",
       "      <td>4</td>\n",
       "      <td>1</td>\n",
       "    </tr>\n",
       "    <tr>\n",
       "      <th>3</th>\n",
       "      <td>Sin reseña</td>\n",
       "      <td>2021</td>\n",
       "      <td>4</td>\n",
       "      <td>1</td>\n",
       "    </tr>\n",
       "    <tr>\n",
       "      <th>4</th>\n",
       "      <td>Este Hotel es un imprecionante edificio, lleno...</td>\n",
       "      <td>2021</td>\n",
       "      <td>3</td>\n",
       "      <td>1</td>\n",
       "    </tr>\n",
       "  </tbody>\n",
       "</table>\n",
       "</div>"
      ],
      "text/plain": [
       "                                             reseñas   año  mes  \\\n",
       "0                                         Sin reseña  2021    5   \n",
       "1                                         Sin reseña  2021    5   \n",
       "2                                         Sin reseña  2021    4   \n",
       "3                                         Sin reseña  2021    4   \n",
       "4  Este Hotel es un imprecionante edificio, lleno...  2021    3   \n",
       "\n",
       "   retroalimentacion  \n",
       "0                  1  \n",
       "1                  1  \n",
       "2                  1  \n",
       "3                  1  \n",
       "4                  1  "
      ]
     },
     "execution_count": 48,
     "metadata": {},
     "output_type": "execute_result"
    }
   ],
   "source": [
    "df.head()"
   ]
  },
  {
   "cell_type": "code",
   "execution_count": 49,
   "metadata": {},
   "outputs": [
    {
     "data": {
      "text/html": [
       "<div>\n",
       "<style scoped>\n",
       "    .dataframe tbody tr th:only-of-type {\n",
       "        vertical-align: middle;\n",
       "    }\n",
       "\n",
       "    .dataframe tbody tr th {\n",
       "        vertical-align: top;\n",
       "    }\n",
       "\n",
       "    .dataframe thead th {\n",
       "        text-align: right;\n",
       "    }\n",
       "</style>\n",
       "<table border=\"1\" class=\"dataframe\">\n",
       "  <thead>\n",
       "    <tr style=\"text-align: right;\">\n",
       "      <th></th>\n",
       "      <th>año</th>\n",
       "      <th>mes</th>\n",
       "      <th>retroalimentacion</th>\n",
       "    </tr>\n",
       "  </thead>\n",
       "  <tbody>\n",
       "    <tr>\n",
       "      <th>count</th>\n",
       "      <td>1014.000000</td>\n",
       "      <td>1014.000000</td>\n",
       "      <td>1014.000000</td>\n",
       "    </tr>\n",
       "    <tr>\n",
       "      <th>mean</th>\n",
       "      <td>2018.754438</td>\n",
       "      <td>6.569034</td>\n",
       "      <td>0.987179</td>\n",
       "    </tr>\n",
       "    <tr>\n",
       "      <th>std</th>\n",
       "      <td>1.017058</td>\n",
       "      <td>3.550047</td>\n",
       "      <td>0.112555</td>\n",
       "    </tr>\n",
       "    <tr>\n",
       "      <th>min</th>\n",
       "      <td>2017.000000</td>\n",
       "      <td>1.000000</td>\n",
       "      <td>0.000000</td>\n",
       "    </tr>\n",
       "    <tr>\n",
       "      <th>25%</th>\n",
       "      <td>2018.000000</td>\n",
       "      <td>3.000000</td>\n",
       "      <td>1.000000</td>\n",
       "    </tr>\n",
       "    <tr>\n",
       "      <th>50%</th>\n",
       "      <td>2019.000000</td>\n",
       "      <td>7.000000</td>\n",
       "      <td>1.000000</td>\n",
       "    </tr>\n",
       "    <tr>\n",
       "      <th>75%</th>\n",
       "      <td>2019.000000</td>\n",
       "      <td>10.000000</td>\n",
       "      <td>1.000000</td>\n",
       "    </tr>\n",
       "    <tr>\n",
       "      <th>max</th>\n",
       "      <td>2021.000000</td>\n",
       "      <td>12.000000</td>\n",
       "      <td>1.000000</td>\n",
       "    </tr>\n",
       "  </tbody>\n",
       "</table>\n",
       "</div>"
      ],
      "text/plain": [
       "               año          mes  retroalimentacion\n",
       "count  1014.000000  1014.000000        1014.000000\n",
       "mean   2018.754438     6.569034           0.987179\n",
       "std       1.017058     3.550047           0.112555\n",
       "min    2017.000000     1.000000           0.000000\n",
       "25%    2018.000000     3.000000           1.000000\n",
       "50%    2019.000000     7.000000           1.000000\n",
       "75%    2019.000000    10.000000           1.000000\n",
       "max    2021.000000    12.000000           1.000000"
      ]
     },
     "execution_count": 49,
     "metadata": {},
     "output_type": "execute_result"
    }
   ],
   "source": [
    "df.describe()"
   ]
  },
  {
   "cell_type": "code",
   "execution_count": 50,
   "metadata": {},
   "outputs": [],
   "source": [
    "# Renombrar las columnas\n",
    "df.columns = [\"opinion\",\"año\",\"mes\",\"retroalimentacion\"]"
   ]
  },
  {
   "cell_type": "code",
   "execution_count": 51,
   "metadata": {},
   "outputs": [
    {
     "data": {
      "text/html": [
       "<div>\n",
       "<style scoped>\n",
       "    .dataframe tbody tr th:only-of-type {\n",
       "        vertical-align: middle;\n",
       "    }\n",
       "\n",
       "    .dataframe tbody tr th {\n",
       "        vertical-align: top;\n",
       "    }\n",
       "\n",
       "    .dataframe thead th {\n",
       "        text-align: right;\n",
       "    }\n",
       "</style>\n",
       "<table border=\"1\" class=\"dataframe\">\n",
       "  <thead>\n",
       "    <tr style=\"text-align: right;\">\n",
       "      <th></th>\n",
       "      <th>opinion</th>\n",
       "      <th>año</th>\n",
       "      <th>mes</th>\n",
       "      <th>retroalimentacion</th>\n",
       "    </tr>\n",
       "  </thead>\n",
       "  <tbody>\n",
       "    <tr>\n",
       "      <th>0</th>\n",
       "      <td>Sin reseña</td>\n",
       "      <td>2021</td>\n",
       "      <td>5</td>\n",
       "      <td>1</td>\n",
       "    </tr>\n",
       "  </tbody>\n",
       "</table>\n",
       "</div>"
      ],
      "text/plain": [
       "      opinion   año  mes  retroalimentacion\n",
       "0  Sin reseña  2021    5                  1"
      ]
     },
     "execution_count": 51,
     "metadata": {},
     "output_type": "execute_result"
    }
   ],
   "source": [
    "df.head(1)"
   ]
  },
  {
   "cell_type": "code",
   "execution_count": 52,
   "metadata": {},
   "outputs": [],
   "source": [
    "# Guardamos los datos\n",
    "df.to_csv(\"Preprocesado_Expedia.csv\")"
   ]
  },
  {
   "cell_type": "code",
   "execution_count": null,
   "metadata": {},
   "outputs": [],
   "source": []
  }
 ],
 "metadata": {
  "kernelspec": {
   "display_name": "Python 3",
   "language": "python",
   "name": "python3"
  },
  "language_info": {
   "codemirror_mode": {
    "name": "ipython",
    "version": 3
   },
   "file_extension": ".py",
   "mimetype": "text/x-python",
   "name": "python",
   "nbconvert_exporter": "python",
   "pygments_lexer": "ipython3",
   "version": "3.8.5"
  }
 },
 "nbformat": 4,
 "nbformat_minor": 4
}
